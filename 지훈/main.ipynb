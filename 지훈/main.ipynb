{
 "cells": [
  {
   "cell_type": "markdown",
   "id": "424c08dc-8da2-41be-a7ab-988aca177e13",
   "metadata": {},
   "source": [
    "# 프로젝트 구조\n",
    "```bash\n",
    "├── base_line_codes\n",
    "│   ├── Dataset.py\n",
    "│   ├── evaluation.py\n",
    "│   ├── test.py\n",
    "│   ├── label_maker.py\n",
    "│   ├── train.py\n",
    "│   └── model.py\n",
    "├── logs\n",
    "├── parameters\n",
    "├── project.toml\n",
    "├── project.lock\n",
    "├── train_data.csv\n",
    "└── main.ipynb\n",
    "``` \n",
    "<span style=\"color: red;\">위 구조대로 파일을 구성해주세요</span> <br>\n",
    "<span style=\"color: red;\">parameters, project.lock, logs, train_data.csv 는 자동으로 생성됩니다</span>"
   ]
  },
  {
   "cell_type": "markdown",
   "id": "00b0732f-af4b-4bc8-bc4c-926c60ee5085",
   "metadata": {
    "tags": []
   },
   "source": [
    "# 필요한 라이브러리 설치 및 버전 맞추기"
   ]
  },
  {
   "cell_type": "code",
   "execution_count": 1,
   "id": "b8ca1484-e93e-494e-9c8e-0f856fa5dbcc",
   "metadata": {
    "tags": []
   },
   "outputs": [
    {
     "name": "stdout",
     "output_type": "stream",
     "text": [
      "Requirement already satisfied: ruamel_yaml in /opt/conda/lib/python3.8/site-packages (0.15.87)\n",
      "Requirement already satisfied: urllib3 in /opt/conda/lib/python3.8/site-packages (1.26.15)\n",
      "Requirement already satisfied: poetry in /opt/conda/lib/python3.8/site-packages (1.4.2)\n",
      "Requirement already satisfied: build<0.11.0,>=0.10.0 in /opt/conda/lib/python3.8/site-packages (from poetry) (0.10.0)\n",
      "Requirement already satisfied: trove-classifiers>=2022.5.19 in /opt/conda/lib/python3.8/site-packages (from poetry) (2023.3.9)\n",
      "Requirement already satisfied: cleo<3.0.0,>=2.0.0 in /opt/conda/lib/python3.8/site-packages (from poetry) (2.0.1)\n",
      "Requirement already satisfied: tomli<3.0.0,>=2.0.1 in /opt/conda/lib/python3.8/site-packages (from poetry) (2.0.1)\n",
      "Requirement already satisfied: poetry-plugin-export<2.0.0,>=1.3.0 in /opt/conda/lib/python3.8/site-packages (from poetry) (1.3.0)\n",
      "Requirement already satisfied: dulwich<0.22.0,>=0.21.2 in /opt/conda/lib/python3.8/site-packages (from poetry) (0.21.3)\n",
      "Requirement already satisfied: cachecontrol[filecache]<0.13.0,>=0.12.9 in /opt/conda/lib/python3.8/site-packages (from poetry) (0.12.11)\n",
      "Requirement already satisfied: html5lib<2.0,>=1.0 in /opt/conda/lib/python3.8/site-packages (from poetry) (1.1)\n",
      "Requirement already satisfied: shellingham<2.0,>=1.5 in /opt/conda/lib/python3.8/site-packages (from poetry) (1.5.0.post1)\n",
      "Requirement already satisfied: keyring<24.0.0,>=23.9.0 in /opt/conda/lib/python3.8/site-packages (from poetry) (23.13.1)\n",
      "Requirement already satisfied: crashtest<0.5.0,>=0.4.1 in /opt/conda/lib/python3.8/site-packages (from poetry) (0.4.1)\n",
      "Requirement already satisfied: poetry-core==1.5.2 in /opt/conda/lib/python3.8/site-packages (from poetry) (1.5.2)\n",
      "Requirement already satisfied: tomlkit!=0.11.2,!=0.11.3,<1.0.0,>=0.11.1 in /opt/conda/lib/python3.8/site-packages (from poetry) (0.11.7)\n",
      "Requirement already satisfied: pkginfo<2.0.0,>=1.9.4 in /opt/conda/lib/python3.8/site-packages (from poetry) (1.9.6)\n",
      "Requirement already satisfied: importlib-metadata>=4.4 in /opt/conda/lib/python3.8/site-packages (from poetry) (6.3.0)\n",
      "Requirement already satisfied: filelock<4.0.0,>=3.8.0 in /opt/conda/lib/python3.8/site-packages (from poetry) (3.11.0)\n",
      "Requirement already satisfied: installer<0.8.0,>=0.7.0 in /opt/conda/lib/python3.8/site-packages (from poetry) (0.7.0)\n",
      "Requirement already satisfied: virtualenv!=20.4.5,!=20.4.6,<21.0.0,>=20.4.3 in /opt/conda/lib/python3.8/site-packages (from poetry) (20.21.0)\n",
      "Requirement already satisfied: requests-toolbelt<0.11.0,>=0.9.1 in /opt/conda/lib/python3.8/site-packages (from poetry) (0.10.1)\n",
      "Requirement already satisfied: requests<3.0,>=2.18 in /opt/conda/lib/python3.8/site-packages (from poetry) (2.28.2)\n",
      "Requirement already satisfied: pyproject-hooks<2.0.0,>=1.0.0 in /opt/conda/lib/python3.8/site-packages (from poetry) (1.0.0)\n",
      "Requirement already satisfied: lockfile<0.13.0,>=0.12.2 in /opt/conda/lib/python3.8/site-packages (from poetry) (0.12.2)\n",
      "Requirement already satisfied: packaging>=20.4 in /opt/conda/lib/python3.8/site-packages (from poetry) (21.0)\n",
      "Requirement already satisfied: jsonschema<5.0.0,>=4.10.0 in /opt/conda/lib/python3.8/site-packages (from poetry) (4.17.3)\n",
      "Requirement already satisfied: urllib3<2.0.0,>=1.26.0 in /opt/conda/lib/python3.8/site-packages (from poetry) (1.26.15)\n",
      "Requirement already satisfied: pexpect<5.0.0,>=4.7.0 in /opt/conda/lib/python3.8/site-packages (from poetry) (4.8.0)\n",
      "Requirement already satisfied: platformdirs<3.0.0,>=2.5.2 in /opt/conda/lib/python3.8/site-packages (from poetry) (2.6.2)\n",
      "Requirement already satisfied: pyproject-hooks<2.0.0,>=1.0.0 in /opt/conda/lib/python3.8/site-packages (from poetry) (1.0.0)\n",
      "Requirement already satisfied: packaging>=20.4 in /opt/conda/lib/python3.8/site-packages (from poetry) (21.0)\n",
      "Requirement already satisfied: tomli<3.0.0,>=2.0.1 in /opt/conda/lib/python3.8/site-packages (from poetry) (2.0.1)\n",
      "Requirement already satisfied: crashtest<0.5.0,>=0.4.1 in /opt/conda/lib/python3.8/site-packages (from poetry) (0.4.1)\n",
      "Requirement already satisfied: rapidfuzz<3.0.0,>=2.2.0 in /opt/conda/lib/python3.8/site-packages (from cleo<3.0.0,>=2.0.0->poetry) (2.15.1)\n",
      "Requirement already satisfied: poetry in /opt/conda/lib/python3.8/site-packages (1.4.2)\n",
      "Requirement already satisfied: poetry-core==1.5.2 in /opt/conda/lib/python3.8/site-packages (from poetry) (1.5.2)\n",
      "Requirement already satisfied: urllib3<2.0.0,>=1.26.0 in /opt/conda/lib/python3.8/site-packages (from poetry) (1.26.15)\n",
      "Requirement already satisfied: requests<3.0,>=2.18 in /opt/conda/lib/python3.8/site-packages (from poetry) (2.28.2)\n",
      "Requirement already satisfied: msgpack>=0.5.2 in /opt/conda/lib/python3.8/site-packages (from cachecontrol[filecache]<0.13.0,>=0.12.9->poetry) (1.0.5)\n",
      "Requirement already satisfied: lockfile<0.13.0,>=0.12.2 in /opt/conda/lib/python3.8/site-packages (from poetry) (0.12.2)\n",
      "Requirement already satisfied: webencodings in /opt/conda/lib/python3.8/site-packages (from html5lib<2.0,>=1.0->poetry) (0.5.1)\n",
      "Requirement already satisfied: six>=1.9 in /opt/conda/lib/python3.8/site-packages (from html5lib<2.0,>=1.0->poetry) (1.15.0)\n",
      "Requirement already satisfied: importlib-metadata>=4.4 in /opt/conda/lib/python3.8/site-packages (from poetry) (6.3.0)\n",
      "Requirement already satisfied: jeepney>=0.4.2 in /opt/conda/lib/python3.8/site-packages (from keyring<24.0.0,>=23.9.0->poetry) (0.8.0)\n",
      "Requirement already satisfied: jaraco.classes in /opt/conda/lib/python3.8/site-packages (from keyring<24.0.0,>=23.9.0->poetry) (3.2.3)\n",
      "Requirement already satisfied: importlib-resources in /opt/conda/lib/python3.8/site-packages (from keyring<24.0.0,>=23.9.0->poetry) (5.12.0)\n",
      "Requirement already satisfied: SecretStorage>=3.2 in /opt/conda/lib/python3.8/site-packages (from keyring<24.0.0,>=23.9.0->poetry) (3.3.3)\n",
      "Requirement already satisfied: zipp>=0.5 in /opt/conda/lib/python3.8/site-packages (from importlib-metadata>=4.4->poetry) (3.15.0)\n",
      "Requirement already satisfied: platformdirs<3.0.0,>=2.5.2 in /opt/conda/lib/python3.8/site-packages (from poetry) (2.6.2)\n",
      "Requirement already satisfied: filelock<4.0.0,>=3.8.0 in /opt/conda/lib/python3.8/site-packages (from poetry) (3.11.0)\n",
      "Requirement already satisfied: distlib<1,>=0.3.6 in /opt/conda/lib/python3.8/site-packages (from virtualenv!=20.4.5,!=20.4.6,<21.0.0,>=20.4.3->poetry) (0.3.6)\n",
      "Requirement already satisfied: requests<3.0,>=2.18 in /opt/conda/lib/python3.8/site-packages (from poetry) (2.28.2)\n",
      "Requirement already satisfied: charset-normalizer<4,>=2 in /opt/conda/lib/python3.8/site-packages (from requests<3.0,>=2.18->poetry) (3.1.0)\n",
      "Requirement already satisfied: idna<4,>=2.5 in /opt/conda/lib/python3.8/site-packages (from requests<3.0,>=2.18->poetry) (2.10)\n",
      "Requirement already satisfied: certifi>=2017.4.17 in /opt/conda/lib/python3.8/site-packages (from requests<3.0,>=2.18->poetry) (2022.12.7)\n",
      "Requirement already satisfied: urllib3<2.0.0,>=1.26.0 in /opt/conda/lib/python3.8/site-packages (from poetry) (1.26.15)\n",
      "Requirement already satisfied: tomli<3.0.0,>=2.0.1 in /opt/conda/lib/python3.8/site-packages (from poetry) (2.0.1)\n",
      "Requirement already satisfied: pyparsing>=2.0.2 in /opt/conda/lib/python3.8/site-packages (from packaging>=20.4->poetry) (2.4.7)\n",
      "Requirement already satisfied: attrs>=17.4.0 in /opt/conda/lib/python3.8/site-packages (from jsonschema<5.0.0,>=4.10.0->poetry) (21.2.0)\n",
      "Requirement already satisfied: pkgutil-resolve-name>=1.3.10 in /opt/conda/lib/python3.8/site-packages (from jsonschema<5.0.0,>=4.10.0->poetry) (1.3.10)\n",
      "Requirement already satisfied: importlib-resources in /opt/conda/lib/python3.8/site-packages (from keyring<24.0.0,>=23.9.0->poetry) (5.12.0)\n",
      "Requirement already satisfied: pyrsistent!=0.17.0,!=0.17.1,!=0.17.2,>=0.14.0 in /opt/conda/lib/python3.8/site-packages (from jsonschema<5.0.0,>=4.10.0->poetry) (0.18.0)\n",
      "Requirement already satisfied: ptyprocess>=0.5 in /opt/conda/lib/python3.8/site-packages (from pexpect<5.0.0,>=4.7.0->poetry) (0.7.0)\n",
      "Requirement already satisfied: requests<3.0,>=2.18 in /opt/conda/lib/python3.8/site-packages (from poetry) (2.28.2)\n",
      "Requirement already satisfied: msgpack>=0.5.2 in /opt/conda/lib/python3.8/site-packages (from cachecontrol[filecache]<0.13.0,>=0.12.9->poetry) (1.0.5)\n",
      "Requirement already satisfied: more-itertools in /opt/conda/lib/python3.8/site-packages (from jaraco.classes->keyring<24.0.0,>=23.9.0->poetry) (9.1.0)\n",
      "Requirement already satisfied: zipp>=0.5 in /opt/conda/lib/python3.8/site-packages (from importlib-metadata>=4.4->poetry) (3.15.0)\n",
      "Requirement already satisfied: cryptography>=2.0 in /opt/conda/lib/python3.8/site-packages (from SecretStorage>=3.2->keyring<24.0.0,>=23.9.0->poetry) (3.2.1)\n",
      "Requirement already satisfied: jeepney>=0.4.2 in /opt/conda/lib/python3.8/site-packages (from keyring<24.0.0,>=23.9.0->poetry) (0.8.0)\n",
      "Requirement already satisfied: six>=1.9 in /opt/conda/lib/python3.8/site-packages (from html5lib<2.0,>=1.0->poetry) (1.15.0)\n",
      "Requirement already satisfied: cffi!=1.11.3,>=1.8 in /opt/conda/lib/python3.8/site-packages (from cryptography>=2.0->SecretStorage>=3.2->keyring<24.0.0,>=23.9.0->poetry) (1.14.3)\n",
      "Requirement already satisfied: pycparser in /opt/conda/lib/python3.8/site-packages (from cffi!=1.11.3,>=1.8->cryptography>=2.0->SecretStorage>=3.2->keyring<24.0.0,>=23.9.0->poetry) (2.20)\n"
     ]
    }
   ],
   "source": [
    "!pip install ruamel_yaml\n",
    "!pip install urllib3\n",
    "!pip install poetry --use-feature=2020-resolver\n",
    "#!pip install tensorboard"
   ]
  },
  {
   "cell_type": "code",
   "execution_count": 2,
   "id": "897c691b-10a7-464d-a36b-90d7554efcff",
   "metadata": {},
   "outputs": [],
   "source": [
    "import base_line_codes.train\n",
    "import base_line_codes.label_maker\n",
    "import tensorboard\n",
    "import torch\n",
    "from torch.utils.tensorboard import SummaryWriter\n",
    "import gc\n",
    "import os"
   ]
  },
  {
   "cell_type": "markdown",
   "id": "ecadcad2-fde4-4eee-af06-8c0b78c2a513",
   "metadata": {},
   "source": [
    "# 경로 지정 및 캐시 초기화\n",
    "#### tensor board log 위치 : /logs"
   ]
  },
  {
   "cell_type": "code",
   "execution_count": 3,
   "id": "ed2ab3bc-f418-4347-a632-d90d466c1a63",
   "metadata": {},
   "outputs": [],
   "source": [
    "writer = SummaryWriter('logs/')\n",
    "\n",
    "# 캐시 초기화\n",
    "gc.collect()\n",
    "torch.cuda.empty_cache()"
   ]
  },
  {
   "cell_type": "markdown",
   "id": "89e4009d-97f6-471f-bf9a-c21597eb3298",
   "metadata": {},
   "source": [
    "# train data labeling\n",
    "### label\n",
    "```markdown\n",
    "* mask\n",
    "    * mask : 0\n",
    "    * incorrect : 1\n",
    "    * normal : 2\n",
    "* gender\n",
    "    * female : 0\n",
    "    * male : 1\n",
    "* age\n",
    "    * ~30 : 0\n",
    "    * 30~60 : 1\n",
    "    * 60~ : 2\n",
    "```"
   ]
  },
  {
   "cell_type": "code",
   "execution_count": 4,
   "id": "a08422fc-f2e1-45bb-a2d8-80aabbdbf9a2",
   "metadata": {},
   "outputs": [
    {
     "name": "stdout",
     "output_type": "stream",
     "text": [
      "데이터 수 : 18900\n"
     ]
    }
   ],
   "source": [
    "base_line_codes.label_maker.label_maker()"
   ]
  },
  {
   "cell_type": "markdown",
   "id": "ace85840-f77c-4b1f-a599-b1d21cf7321c",
   "metadata": {},
   "source": [
    "# train\n",
    "### parameter and default value\n",
    "```python\n",
    "train_model(\n",
    "    LEARNING_RATE=1e-3,\n",
    "    EPOCH=5,\n",
    "    BATCH_SIZE=64,\n",
    "    PRETRAINED=False,   (True, False)\n",
    "    LABEL='multi',      (multy, mask, gender, age)\n",
    "    VAL_SIZE=0.2        (0 ~ 1) validation data 의 비율\n",
    ")\n",
    "```"
   ]
  },
  {
   "cell_type": "code",
   "execution_count": 5,
   "id": "29e81d51-8665-4eff-b709-e22095005f52",
   "metadata": {
    "tags": []
   },
   "outputs": [
    {
     "name": "stdout",
     "output_type": "stream",
     "text": [
      "train setting start\n",
      "train setting end\n",
      "train start\n"
     ]
    },
    {
     "name": "stderr",
     "output_type": "stream",
     "text": [
      "/opt/ml/code/base_line_codes/train.py:101: UserWarning: To copy construct from a tensor, it is recommended to use sourceTensor.clone().detach() or sourceTensor.clone().detach().requires_grad_(True), rather than torch.tensor(sourceTensor).\n",
      "  gender_label = torch.tensor(gender_label).to(device)\n",
      "/opt/ml/code/base_line_codes/train.py:102: UserWarning: To copy construct from a tensor, it is recommended to use sourceTensor.clone().detach() or sourceTensor.clone().detach().requires_grad_(True), rather than torch.tensor(sourceTensor).\n",
      "  age_label = torch.tensor(age_label).to(device)\n",
      "/opt/ml/code/base_line_codes/train.py:103: UserWarning: To copy construct from a tensor, it is recommended to use sourceTensor.clone().detach() or sourceTensor.clone().detach().requires_grad_(True), rather than torch.tensor(sourceTensor).\n",
      "  mask_label = torch.tensor(mask_label).to(device)\n",
      "/opt/ml/code/base_line_codes/train.py:116: UserWarning: To copy construct from a tensor, it is recommended to use sourceTensor.clone().detach() or sourceTensor.clone().detach().requires_grad_(True), rather than torch.tensor(sourceTensor).\n",
      "  acc = eval_by_epoch.update(pred,torch.tensor(total_label))\n"
     ]
    },
    {
     "name": "stdout",
     "output_type": "stream",
     "text": [
      "Iter [  0/237] | Train Loss 2.7231\n",
      "gender acc 0.4062 | age acc 0.4375 | mask acc 0.7812 | total acc 0.1719\n",
      "Iter [ 20/237] | Train Loss 2.1500\n",
      "gender acc 0.5625 | age acc 0.7500 | mask acc 0.6562 | total acc 0.2500\n",
      "Iter [ 40/237] | Train Loss 1.9443\n",
      "gender acc 0.7656 | age acc 0.7812 | mask acc 0.7031 | total acc 0.4219\n",
      "Iter [ 60/237] | Train Loss 2.0600\n",
      "gender acc 0.7344 | age acc 0.7969 | mask acc 0.7188 | total acc 0.4062\n",
      "Iter [ 80/237] | Train Loss 1.6659\n",
      "gender acc 0.6250 | age acc 0.8125 | mask acc 0.7188 | total acc 0.3750\n",
      "Iter [100/237] | Train Loss 2.0464\n",
      "gender acc 0.7031 | age acc 0.7188 | mask acc 0.7344 | total acc 0.3906\n",
      "Iter [120/237] | Train Loss 1.6912\n",
      "gender acc 0.7812 | age acc 0.8594 | mask acc 0.7031 | total acc 0.4844\n",
      "Iter [140/237] | Train Loss 1.9509\n",
      "gender acc 0.7969 | age acc 0.6875 | mask acc 0.7188 | total acc 0.4219\n",
      "Iter [160/237] | Train Loss 1.3628\n",
      "gender acc 0.8594 | age acc 0.8438 | mask acc 0.7969 | total acc 0.5781\n",
      "Iter [180/237] | Train Loss 1.6264\n",
      "gender acc 0.7656 | age acc 0.7812 | mask acc 0.7188 | total acc 0.4062\n",
      "Iter [200/237] | Train Loss 1.8696\n",
      "gender acc 0.8281 | age acc 0.7500 | mask acc 0.6406 | total acc 0.4062\n",
      "Iter [220/237] | Train Loss 1.5143\n",
      "gender acc 0.7969 | age acc 0.8281 | mask acc 0.7188 | total acc 0.5156\n",
      "label acc : [0.076, 0.001, 0.303, 0.512, 0.015, 0.111, 0, 0], total_acc : 0.154, f1_score : 0.093\n",
      "epoch 1 is done!\n"
     ]
    },
    {
     "name": "stderr",
     "output_type": "stream",
     "text": [
      "/opt/ml/code/base_line_codes/train.py:101: UserWarning: To copy construct from a tensor, it is recommended to use sourceTensor.clone().detach() or sourceTensor.clone().detach().requires_grad_(True), rather than torch.tensor(sourceTensor).\n",
      "  gender_label = torch.tensor(gender_label).to(device)\n",
      "/opt/ml/code/base_line_codes/train.py:102: UserWarning: To copy construct from a tensor, it is recommended to use sourceTensor.clone().detach() or sourceTensor.clone().detach().requires_grad_(True), rather than torch.tensor(sourceTensor).\n",
      "  age_label = torch.tensor(age_label).to(device)\n",
      "/opt/ml/code/base_line_codes/train.py:103: UserWarning: To copy construct from a tensor, it is recommended to use sourceTensor.clone().detach() or sourceTensor.clone().detach().requires_grad_(True), rather than torch.tensor(sourceTensor).\n",
      "  mask_label = torch.tensor(mask_label).to(device)\n",
      "/opt/ml/code/base_line_codes/train.py:116: UserWarning: To copy construct from a tensor, it is recommended to use sourceTensor.clone().detach() or sourceTensor.clone().detach().requires_grad_(True), rather than torch.tensor(sourceTensor).\n",
      "  acc = eval_by_epoch.update(pred,torch.tensor(total_label))\n"
     ]
    },
    {
     "name": "stdout",
     "output_type": "stream",
     "text": [
      "Iter [  0/237] | Train Loss 1.5721\n",
      "gender acc 0.7500 | age acc 0.7812 | mask acc 0.8125 | total acc 0.4688\n",
      "Iter [ 20/237] | Train Loss 1.4944\n",
      "gender acc 0.8438 | age acc 0.7500 | mask acc 0.8750 | total acc 0.5469\n",
      "Iter [ 40/237] | Train Loss 1.3495\n",
      "gender acc 0.8750 | age acc 0.7656 | mask acc 0.8594 | total acc 0.5469\n",
      "Iter [ 60/237] | Train Loss 1.4561\n",
      "gender acc 0.7656 | age acc 0.7344 | mask acc 0.8750 | total acc 0.4531\n",
      "Iter [ 80/237] | Train Loss 1.0604\n",
      "gender acc 0.8750 | age acc 0.8281 | mask acc 0.9219 | total acc 0.6719\n",
      "Iter [100/237] | Train Loss 1.0822\n",
      "gender acc 0.8438 | age acc 0.8906 | mask acc 0.8281 | total acc 0.6094\n",
      "Iter [120/237] | Train Loss 0.9290\n",
      "gender acc 0.8750 | age acc 0.8281 | mask acc 0.9531 | total acc 0.7031\n",
      "Iter [140/237] | Train Loss 0.7655\n",
      "gender acc 0.9688 | age acc 0.8281 | mask acc 0.9375 | total acc 0.7500\n",
      "Iter [160/237] | Train Loss 0.8336\n",
      "gender acc 0.9062 | age acc 0.7969 | mask acc 1.0000 | total acc 0.7500\n",
      "Iter [180/237] | Train Loss 0.8602\n",
      "gender acc 0.8594 | age acc 0.7812 | mask acc 0.9688 | total acc 0.7188\n",
      "Iter [200/237] | Train Loss 0.8440\n",
      "gender acc 0.8906 | age acc 0.8281 | mask acc 0.9844 | total acc 0.7500\n",
      "Iter [220/237] | Train Loss 0.9267\n",
      "gender acc 0.8594 | age acc 0.7188 | mask acc 0.9688 | total acc 0.6094\n",
      "label acc : [0.268, 0.005, 0.172, 0.243, 0.048, 0.0, 0, 0], total_acc : 0.127, f1_score : 0.102\n",
      "epoch 2 is done!\n"
     ]
    },
    {
     "name": "stderr",
     "output_type": "stream",
     "text": [
      "/opt/ml/code/base_line_codes/train.py:101: UserWarning: To copy construct from a tensor, it is recommended to use sourceTensor.clone().detach() or sourceTensor.clone().detach().requires_grad_(True), rather than torch.tensor(sourceTensor).\n",
      "  gender_label = torch.tensor(gender_label).to(device)\n",
      "/opt/ml/code/base_line_codes/train.py:102: UserWarning: To copy construct from a tensor, it is recommended to use sourceTensor.clone().detach() or sourceTensor.clone().detach().requires_grad_(True), rather than torch.tensor(sourceTensor).\n",
      "  age_label = torch.tensor(age_label).to(device)\n",
      "/opt/ml/code/base_line_codes/train.py:103: UserWarning: To copy construct from a tensor, it is recommended to use sourceTensor.clone().detach() or sourceTensor.clone().detach().requires_grad_(True), rather than torch.tensor(sourceTensor).\n",
      "  mask_label = torch.tensor(mask_label).to(device)\n",
      "/opt/ml/code/base_line_codes/train.py:116: UserWarning: To copy construct from a tensor, it is recommended to use sourceTensor.clone().detach() or sourceTensor.clone().detach().requires_grad_(True), rather than torch.tensor(sourceTensor).\n",
      "  acc = eval_by_epoch.update(pred,torch.tensor(total_label))\n"
     ]
    },
    {
     "name": "stdout",
     "output_type": "stream",
     "text": [
      "Iter [  0/237] | Train Loss 0.4826\n",
      "gender acc 0.9531 | age acc 0.8438 | mask acc 0.9844 | total acc 0.7812\n",
      "Iter [ 20/237] | Train Loss 0.7762\n",
      "gender acc 0.9062 | age acc 0.8750 | mask acc 0.9062 | total acc 0.7344\n",
      "Iter [ 40/237] | Train Loss 0.8478\n",
      "gender acc 0.9531 | age acc 0.7656 | mask acc 0.9688 | total acc 0.7188\n",
      "Iter [ 60/237] | Train Loss 0.5276\n",
      "gender acc 0.9531 | age acc 0.8594 | mask acc 0.9844 | total acc 0.8125\n",
      "Iter [ 80/237] | Train Loss 0.5298\n",
      "gender acc 0.9375 | age acc 0.8594 | mask acc 0.9688 | total acc 0.7812\n",
      "Iter [100/237] | Train Loss 0.7692\n",
      "gender acc 0.9219 | age acc 0.8281 | mask acc 0.9688 | total acc 0.7500\n",
      "Iter [120/237] | Train Loss 0.5581\n",
      "gender acc 0.8906 | age acc 0.8594 | mask acc 1.0000 | total acc 0.7812\n",
      "Iter [140/237] | Train Loss 0.7834\n",
      "gender acc 0.9375 | age acc 0.7812 | mask acc 0.9531 | total acc 0.6719\n",
      "Iter [160/237] | Train Loss 0.4546\n",
      "gender acc 0.9219 | age acc 0.9219 | mask acc 1.0000 | total acc 0.8594\n",
      "Iter [180/237] | Train Loss 0.4725\n",
      "gender acc 0.9688 | age acc 0.8906 | mask acc 0.9531 | total acc 0.8125\n",
      "Iter [200/237] | Train Loss 0.6270\n",
      "gender acc 0.9375 | age acc 0.8906 | mask acc 0.9219 | total acc 0.7812\n",
      "Iter [220/237] | Train Loss 0.6603\n",
      "gender acc 0.9062 | age acc 0.9219 | mask acc 0.9844 | total acc 0.8125\n",
      "label acc : [0.325, 0.002, 0.099, 0.079, 0.04, 0.016, 0, 0], total_acc : 0.099, f1_score : 0.086\n",
      "epoch 3 is done!\n"
     ]
    },
    {
     "name": "stderr",
     "output_type": "stream",
     "text": [
      "/opt/ml/code/base_line_codes/train.py:101: UserWarning: To copy construct from a tensor, it is recommended to use sourceTensor.clone().detach() or sourceTensor.clone().detach().requires_grad_(True), rather than torch.tensor(sourceTensor).\n",
      "  gender_label = torch.tensor(gender_label).to(device)\n",
      "/opt/ml/code/base_line_codes/train.py:102: UserWarning: To copy construct from a tensor, it is recommended to use sourceTensor.clone().detach() or sourceTensor.clone().detach().requires_grad_(True), rather than torch.tensor(sourceTensor).\n",
      "  age_label = torch.tensor(age_label).to(device)\n",
      "/opt/ml/code/base_line_codes/train.py:103: UserWarning: To copy construct from a tensor, it is recommended to use sourceTensor.clone().detach() or sourceTensor.clone().detach().requires_grad_(True), rather than torch.tensor(sourceTensor).\n",
      "  mask_label = torch.tensor(mask_label).to(device)\n",
      "/opt/ml/code/base_line_codes/train.py:116: UserWarning: To copy construct from a tensor, it is recommended to use sourceTensor.clone().detach() or sourceTensor.clone().detach().requires_grad_(True), rather than torch.tensor(sourceTensor).\n",
      "  acc = eval_by_epoch.update(pred,torch.tensor(total_label))\n"
     ]
    },
    {
     "name": "stdout",
     "output_type": "stream",
     "text": [
      "Iter [  0/237] | Train Loss 0.4846\n",
      "gender acc 0.8438 | age acc 0.9375 | mask acc 1.0000 | total acc 0.8125\n",
      "Iter [ 20/237] | Train Loss 0.3979\n",
      "gender acc 0.9531 | age acc 0.8906 | mask acc 0.9844 | total acc 0.8281\n",
      "Iter [ 40/237] | Train Loss 0.3009\n",
      "gender acc 0.9844 | age acc 0.9219 | mask acc 1.0000 | total acc 0.9062\n",
      "Iter [ 60/237] | Train Loss 0.7892\n",
      "gender acc 0.9062 | age acc 0.8906 | mask acc 0.9688 | total acc 0.8125\n",
      "Iter [ 80/237] | Train Loss 0.4768\n",
      "gender acc 0.9375 | age acc 0.8438 | mask acc 0.9844 | total acc 0.7812\n",
      "Iter [100/237] | Train Loss 0.4968\n",
      "gender acc 1.0000 | age acc 0.8125 | mask acc 1.0000 | total acc 0.8125\n",
      "Iter [120/237] | Train Loss 0.6212\n",
      "gender acc 0.8750 | age acc 0.8438 | mask acc 1.0000 | total acc 0.7344\n",
      "Iter [140/237] | Train Loss 0.4970\n",
      "gender acc 0.9531 | age acc 0.8438 | mask acc 0.9844 | total acc 0.7812\n",
      "Iter [160/237] | Train Loss 0.5423\n",
      "gender acc 0.9375 | age acc 0.9062 | mask acc 0.9688 | total acc 0.8281\n",
      "Iter [180/237] | Train Loss 0.5733\n",
      "gender acc 0.9219 | age acc 0.8750 | mask acc 0.9375 | total acc 0.7812\n",
      "Iter [200/237] | Train Loss 0.4892\n",
      "gender acc 0.8906 | age acc 0.8750 | mask acc 1.0000 | total acc 0.8125\n",
      "Iter [220/237] | Train Loss 0.4545\n",
      "gender acc 0.9219 | age acc 0.8750 | mask acc 1.0000 | total acc 0.7969\n",
      "label acc : [0.336, 0.005, 0.088, 0.055, 0.027, 0.0, 0, 0], total_acc : 0.096, f1_score : 0.08\n",
      "epoch 4 is done!\n"
     ]
    },
    {
     "name": "stderr",
     "output_type": "stream",
     "text": [
      "/opt/ml/code/base_line_codes/train.py:101: UserWarning: To copy construct from a tensor, it is recommended to use sourceTensor.clone().detach() or sourceTensor.clone().detach().requires_grad_(True), rather than torch.tensor(sourceTensor).\n",
      "  gender_label = torch.tensor(gender_label).to(device)\n",
      "/opt/ml/code/base_line_codes/train.py:102: UserWarning: To copy construct from a tensor, it is recommended to use sourceTensor.clone().detach() or sourceTensor.clone().detach().requires_grad_(True), rather than torch.tensor(sourceTensor).\n",
      "  age_label = torch.tensor(age_label).to(device)\n",
      "/opt/ml/code/base_line_codes/train.py:103: UserWarning: To copy construct from a tensor, it is recommended to use sourceTensor.clone().detach() or sourceTensor.clone().detach().requires_grad_(True), rather than torch.tensor(sourceTensor).\n",
      "  mask_label = torch.tensor(mask_label).to(device)\n",
      "/opt/ml/code/base_line_codes/train.py:116: UserWarning: To copy construct from a tensor, it is recommended to use sourceTensor.clone().detach() or sourceTensor.clone().detach().requires_grad_(True), rather than torch.tensor(sourceTensor).\n",
      "  acc = eval_by_epoch.update(pred,torch.tensor(total_label))\n"
     ]
    },
    {
     "name": "stdout",
     "output_type": "stream",
     "text": [
      "Iter [  0/237] | Train Loss 0.1934\n",
      "gender acc 1.0000 | age acc 0.9688 | mask acc 1.0000 | total acc 0.9688\n",
      "Iter [ 20/237] | Train Loss 0.3223\n",
      "gender acc 0.9219 | age acc 0.9531 | mask acc 1.0000 | total acc 0.8906\n",
      "Iter [ 40/237] | Train Loss 0.3125\n",
      "gender acc 1.0000 | age acc 0.9062 | mask acc 1.0000 | total acc 0.9062\n",
      "Iter [ 60/237] | Train Loss 0.2647\n",
      "gender acc 0.9844 | age acc 0.9062 | mask acc 1.0000 | total acc 0.8906\n",
      "Iter [ 80/237] | Train Loss 0.4759\n",
      "gender acc 0.9688 | age acc 0.8750 | mask acc 1.0000 | total acc 0.8438\n",
      "Iter [100/237] | Train Loss 0.5612\n",
      "gender acc 0.9062 | age acc 0.8750 | mask acc 1.0000 | total acc 0.7969\n",
      "Iter [120/237] | Train Loss 0.2539\n",
      "gender acc 0.9688 | age acc 0.9219 | mask acc 1.0000 | total acc 0.8906\n",
      "Iter [140/237] | Train Loss 0.4425\n",
      "gender acc 0.9688 | age acc 0.8906 | mask acc 0.9844 | total acc 0.8594\n",
      "Iter [160/237] | Train Loss 0.3160\n",
      "gender acc 0.9844 | age acc 0.9375 | mask acc 1.0000 | total acc 0.9219\n",
      "Iter [180/237] | Train Loss 0.5380\n",
      "gender acc 0.8906 | age acc 0.8750 | mask acc 0.9844 | total acc 0.7656\n",
      "Iter [200/237] | Train Loss 0.3363\n",
      "gender acc 0.9844 | age acc 0.9531 | mask acc 0.9688 | total acc 0.9062\n",
      "Iter [220/237] | Train Loss 0.2569\n",
      "gender acc 0.9844 | age acc 0.9062 | mask acc 1.0000 | total acc 0.8906\n",
      "label acc : [0.351, 0.012, 0.077, 0.059, 0.055, 0.0, 0, 0], total_acc : 0.1, f1_score : 0.086\n",
      "epoch 5 is done!\n",
      "train done\n"
     ]
    }
   ],
   "source": [
    "base_line_codes.train.train_model(EPOCH=5)"
   ]
  },
  {
   "cell_type": "code",
   "execution_count": 6,
   "id": "271aba01-2ac5-4a57-874b-fa127e1da80a",
   "metadata": {},
   "outputs": [
    {
     "data": {
      "text/html": [
       "\n",
       "      <iframe id=\"tensorboard-frame-a1469e1a11a1ce8c\" width=\"100%\" height=\"800\" frameborder=\"0\">\n",
       "      </iframe>\n",
       "      <script>\n",
       "        (function() {\n",
       "          const frame = document.getElementById(\"tensorboard-frame-a1469e1a11a1ce8c\");\n",
       "          const url = new URL(\"/\", window.location);\n",
       "          const port = 30001;\n",
       "          if (port) {\n",
       "            url.port = port;\n",
       "          }\n",
       "          frame.src = url;\n",
       "        })();\n",
       "      </script>\n",
       "    "
      ],
      "text/plain": [
       "<IPython.core.display.HTML object>"
      ]
     },
     "metadata": {},
     "output_type": "display_data"
    }
   ],
   "source": [
    "%load_ext tensorboard\n",
    "# if not 령태:\n",
    "%tensorboard --logdir=logs --host=0.0.0.0 --port=30001\n",
    "# else:\n",
    "#%tensorboard --logdir=./logs --host=0.0.0.0 --port=30005"
   ]
  },
  {
   "cell_type": "code",
   "execution_count": null,
   "id": "09253a2e-849a-44c6-90e9-09ff239e8d1b",
   "metadata": {},
   "outputs": [],
   "source": []
  }
 ],
 "metadata": {
  "kernelspec": {
   "display_name": "Python 3 (ipykernel)",
   "language": "python",
   "name": "python3"
  },
  "language_info": {
   "codemirror_mode": {
    "name": "ipython",
    "version": 3
   },
   "file_extension": ".py",
   "mimetype": "text/x-python",
   "name": "python",
   "nbconvert_exporter": "python",
   "pygments_lexer": "ipython3",
   "version": "3.8.5"
  }
 },
 "nbformat": 4,
 "nbformat_minor": 5
}
